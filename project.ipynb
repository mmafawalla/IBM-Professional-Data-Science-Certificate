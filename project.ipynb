{
 "cells": [
  {
   "cell_type": "markdown",
   "id": "342bfa45-dcf7-4f22-b1e9-692b0cd2f40c",
   "metadata": {},
   "source": [
    "# My Jupyter Notebook on IBM Watson Studio"
   ]
  },
  {
   "cell_type": "markdown",
   "id": "7041ac56-caeb-476d-ad59-b86c89c273f0",
   "metadata": {},
   "source": [
    "**Muhammed Mafawalla**\n",
    "  \n",
    "Student"
   ]
  },
  {
   "cell_type": "markdown",
   "id": "5f1279fd-51cf-40b0-a69c-4d19aa67f822",
   "metadata": {},
   "source": [
    "*I am interested in Data Science to discover the processes to collect, transform and analyse data to drive informed decision making. Moreover, I am interested in undestanding these principals and the freedom to apply it to any industry"
   ]
  },
  {
   "cell_type": "markdown",
   "id": "787cb3f5-fcdd-4c15-998b-24fd3981fd67",
   "metadata": {},
   "source": [
    "### The code below takes two numerical variables and return the sum of them"
   ]
  },
  {
   "cell_type": "code",
   "execution_count": 5,
   "id": "8b43396f-5299-4b36-960e-31c59222a895",
   "metadata": {},
   "outputs": [
    {
     "data": {
      "text/plain": [
       "10"
      ]
     },
     "execution_count": 5,
     "metadata": {},
     "output_type": "execute_result"
    }
   ],
   "source": [
    "a = 5\n",
    "b = 5\n",
    "a + b"
   ]
  },
  {
   "cell_type": "markdown",
   "id": "30517289-fa32-4622-94ce-97e422275420",
   "metadata": {},
   "source": [
    "## Horizontal Rule\n",
    "***\n",
    "\n",
    "## Bulleted List:\n",
    "* Item\n",
    "* Item\n",
    "* Item\n",
    "\n",
    "## Numbered List:\n",
    "1. Item\n",
    "2. Item\n",
    "3. Item\n",
    "\n",
    "## Table:\n",
    "\n",
    "| Column | Column | Column |\n",
    "| --- | --- | --- |\n",
    "| 1 | 2 | 3 |\n",
    "\n",
    "## Hyperlink:\n",
    "<a url=\"https://ibm.com\">IBM Link</a>\n",
    "\n",
    "## Image\n",
    "<img src=\"https://www.google.com.au/images/branding/googlelogo/2x/googlelogo_color_272x92dp.png\" />\n",
    "\n",
    "## Code/Syntax Highlighting\n",
    "```print(\"Hello World!\")```\n",
    "\n",
    "## Blocked Quotes\n",
    "> This is a block quote\n",
    "\n",
    "## Strikethrough\n",
    "~~This is a strikethrough~~"
   ]
  },
  {
   "cell_type": "code",
   "execution_count": null,
   "id": "0d5d6b7a-8d8e-49fb-b3c3-609d8f14db78",
   "metadata": {},
   "outputs": [],
   "source": []
  }
 ],
 "metadata": {
  "kernelspec": {
   "display_name": "Python 3",
   "language": "python",
   "name": "python3"
  },
  "language_info": {
   "codemirror_mode": {
    "name": "ipython",
    "version": 3
   },
   "file_extension": ".py",
   "mimetype": "text/x-python",
   "name": "python",
   "nbconvert_exporter": "python",
   "pygments_lexer": "ipython3",
   "version": "3.8.8"
  }
 },
 "nbformat": 4,
 "nbformat_minor": 5
}
